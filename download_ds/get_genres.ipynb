{
 "cells": [
  {
   "cell_type": "code",
   "execution_count": 75,
   "metadata": {},
   "outputs": [],
   "source": [
    "import glob \n",
    "import os\n",
    "import pickle\n",
    "import pandas as pd"
   ]
  },
  {
   "cell_type": "code",
   "execution_count": 41,
   "metadata": {},
   "outputs": [],
   "source": [
    "folder_paths = sorted(glob.glob(os.getcwd()+'/*'))"
   ]
  },
  {
   "cell_type": "code",
   "execution_count": 43,
   "metadata": {},
   "outputs": [],
   "source": [
    "genre_path = folder_paths[4]\n",
    "with open(genre_path, 'rb') as handle:\n",
    "    movie_genres = pickle.load(handle)"
   ]
  },
  {
   "cell_type": "code",
   "execution_count": 86,
   "metadata": {},
   "outputs": [],
   "source": [
    "def incorrect_names(movie_ids, save = False):\n",
    "    incorrect = {'65': 'TMNT', \n",
    "     '68': 'W.E.',\n",
    "     '23': 'Breathless (1983)',\n",
    "     '36': 'The Ape (2005)',\n",
    "     '57': 'Nightmares from Hell (2010)'}\n",
    "    if save:\n",
    "        with open('incorrect.pickle', 'wb') as handle:\n",
    "            pickle.dump(incorrect, handle)\n",
    "    return incorrect"
   ]
  },
  {
   "cell_type": "code",
   "execution_count": 84,
   "metadata": {},
   "outputs": [],
   "source": [
    "def count_genres(movie_genres):\n",
    "    genres_count = {}\n",
    "    for key, value in movie_genres.items():\n",
    "        genre = value[3][0]\n",
    "        if genre in genres_count.keys():\n",
    "            genres_count[genre] += 1\n",
    "        else:\n",
    "            genres_count[genre] = 1\n",
    "    print(genres_count)"
   ]
  },
  {
   "cell_type": "code",
   "execution_count": 51,
   "metadata": {},
   "outputs": [
    {
     "data": {
      "text/plain": [
       "{'Action': 17,\n",
       " 'Crime': 7,\n",
       " 'Biography': 5,\n",
       " 'Drama': 15,\n",
       " 'Animation': 10,\n",
       " 'Comedy': 10,\n",
       " 'Horror': 5,\n",
       " 'Adventure': 2,\n",
       " 'Short': 1}"
      ]
     },
     "execution_count": 51,
     "metadata": {},
     "output_type": "execute_result"
    }
   ],
   "source": [
    "def get_genre(genres):\n",
    "    g = None\n",
    "    for genre in genres:\n",
    "        if genre in ['Action', 'Horror', 'Comedy', 'Drama', 'Animation']:\n",
    "            g = genre\n",
    "            break\n",
    "    return g\n",
    "\n",
    "def clean_genres(movie_genres):\n",
    "        cleaned_genres = []\n",
    "    for key, value in movie_genres.items():\n",
    "        genres = value[3]\n",
    "        genre = get_genre(genres)\n",
    "        if genre == None:\n",
    "            if key == '57':\n",
    "                genre = 'Horror'\n",
    "            elif key == '54':\n",
    "                genre = 'Action'\n",
    "            else:\n",
    "                print('missing!')\n",
    "        cleaned_genres.append([key, value[0], value[2], genre])\n",
    "    return cleaned_genres"
   ]
  },
  {
   "cell_type": "code",
   "execution_count": 85,
   "metadata": {},
   "outputs": [],
   "source": [
    "def genres_df(cleaned_genres, save=False):\n",
    "    df_genres = pd.DataFrame(cleaned_genres)\n",
    "    df_genres.columns = ['id', 'imdb_id', 'movie_name', 'genre']\n",
    "    if save:\n",
    "        df_genres.to_pickle(\"df_genres.pkl\")\n",
    "    return df_genres"
   ]
  },
  {
   "cell_type": "code",
   "execution_count": 29,
   "metadata": {},
   "outputs": [],
   "source": []
  },
  {
   "cell_type": "code",
   "execution_count": 34,
   "metadata": {},
   "outputs": [],
   "source": []
  }
 ],
 "metadata": {
  "kernelspec": {
   "display_name": "Python 2",
   "language": "python",
   "name": "python2"
  },
  "language_info": {
   "codemirror_mode": {
    "name": "ipython",
    "version": 3
   },
   "file_extension": ".py",
   "mimetype": "text/x-python",
   "name": "python",
   "nbconvert_exporter": "python",
   "pygments_lexer": "ipython3",
   "version": "3.6.7"
  }
 },
 "nbformat": 4,
 "nbformat_minor": 2
}
