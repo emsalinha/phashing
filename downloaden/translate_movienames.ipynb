{
 "cells": [
  {
   "cell_type": "code",
   "execution_count": 9,
   "metadata": {},
   "outputs": [],
   "source": [
    "import glob\n",
    "import os\n",
    "import sys\n",
    "from googletrans import Translator\n",
    "translator = Translator()"
   ]
  },
  {
   "cell_type": "code",
   "execution_count": 28,
   "metadata": {},
   "outputs": [],
   "source": [
    "wd = os.getcwd()\n",
    "allfiles = glob.glob(wd+'/*')\n",
    "oldfiles = [file for file in files if file.endswith('ipynb') == False]\n",
    "oldnames = [oldfile.split('/')[-1] for oldfile in oldfiles]\n",
    "newnames = [translator.translate(oldname).text for oldname in oldnames]\n",
    "newfiles = [wd + '/' + newname for newname in newnames]"
   ]
  },
  {
   "cell_type": "code",
   "execution_count": 32,
   "metadata": {},
   "outputs": [],
   "source": [
    "assert(len(oldfiles) == len(newfiles))\n",
    "for i in range(0, len(oldfiles)):\n",
    "    os.rename(oldfiles[i], newfiles[i])"
   ]
  }
 ],
 "metadata": {
  "kernelspec": {
   "display_name": "Python 3",
   "language": "python",
   "name": "python3"
  },
  "language_info": {
   "codemirror_mode": {
    "name": "ipython",
    "version": 3
   },
   "file_extension": ".py",
   "mimetype": "text/x-python",
   "name": "python",
   "nbconvert_exporter": "python",
   "pygments_lexer": "ipython3",
   "version": "3.6.7"
  }
 },
 "nbformat": 4,
 "nbformat_minor": 2
}
