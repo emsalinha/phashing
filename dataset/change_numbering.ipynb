{
 "cells": [
  {
   "cell_type": "code",
   "execution_count": 17,
   "metadata": {},
   "outputs": [],
   "source": [
    "import os\n",
    "import glob\n",
    "\n",
    "os.chdir('/home/emsala/Documenten/Studie/These/phashing/dataset/films/film_1/frames')\n",
    "\n",
    "frames = [frame for frame in glob.glob(os.getcwd() + '/*')]\n",
    "\n",
    "frames = sorted(frames)\n",
    "\n",
    "for frame in frames:   \n",
    "    path_elements = frame.split('/')\n",
    "    framename = path_elements[-1]\n",
    "    \n",
    "    framenr = framename.split('frame')[1].split('.')[0]\n",
    "   \n",
    "    start = '/'.join(path_elements[:-1]) + '/' + framename.split(framenr)[0]\n",
    "    k = 4-len(framenr)\n",
    "    new_nr = ('0'*k) + framenr\n",
    "    new_name = start + new_nr + end\n",
    "    \n",
    "    os.rename(frame, new_name)"
   ]
  }
 ],
 "metadata": {
  "kernelspec": {
   "display_name": "Python 3",
   "language": "python",
   "name": "python3"
  },
  "language_info": {
   "codemirror_mode": {
    "name": "ipython",
    "version": 3
   },
   "file_extension": ".py",
   "mimetype": "text/x-python",
   "name": "python",
   "nbconvert_exporter": "python",
   "pygments_lexer": "ipython3",
   "version": "3.6.7"
  }
 },
 "nbformat": 4,
 "nbformat_minor": 2
}
