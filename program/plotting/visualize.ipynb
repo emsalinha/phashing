{
 "cells": [
  {
   "cell_type": "code",
   "execution_count": 2,
   "metadata": {},
   "outputs": [],
   "source": [
    "import os\n",
    "import pandas as pd\n",
    "import numpy as np\n",
    "import glob"
   ]
  },
  {
   "cell_type": "code",
   "execution_count": 3,
   "metadata": {},
   "outputs": [
    {
     "name": "stdout",
     "output_type": "stream",
     "text": [
      "['/home/emsala/PycharmProjects/replay_recognition/phash/results_phash_real_data.png', '/home/emsala/PycharmProjects/replay_recognition/phash/results_kimi_real_data.png', '/home/emsala/PycharmProjects/replay_recognition/phash/phash_youtube.py', '/home/emsala/PycharmProjects/replay_recognition/phash/pyphash-master', '/home/emsala/PycharmProjects/replay_recognition/phash/kladblok.py', '/home/emsala/PycharmProjects/replay_recognition/phash/compare_to_database_of_vectors.py', '/home/emsala/PycharmProjects/replay_recognition/phash/average_video_hash.py', '/home/emsala/PycharmProjects/replay_recognition/phash/phash_compare_each_frame.py', '/home/emsala/PycharmProjects/replay_recognition/phash/results_phash_real_data.csv', '/home/emsala/PycharmProjects/replay_recognition/phash/phash_compare_each_frame_real_data.py', '/home/emsala/PycharmProjects/replay_recognition/phash/phash_functies.py', '/home/emsala/PycharmProjects/replay_recognition/phash/Untitled.ipynb', '/home/emsala/PycharmProjects/replay_recognition/phash/phash_compare_each_frame_dwt.py']\n"
     ]
    }
   ],
   "source": [
    "print(glob.glob(os.getcwd() + '/*'))"
   ]
  },
  {
   "cell_type": "code",
   "execution_count": 4,
   "metadata": {},
   "outputs": [],
   "source": [
    "with open('results_phash_real_data.csv') as csvfile:\n",
    "    data = pd.read_csv(csvfile)\n"
   ]
  },
  {
   "cell_type": "code",
   "execution_count": 7,
   "metadata": {},
   "outputs": [],
   "source": [
    "plotresults = np.array(data)"
   ]
  },
  {
   "cell_type": "code",
   "execution_count": 8,
   "metadata": {},
   "outputs": [
    {
     "data": {
      "image/png": "[encoded data removed]",
      "text/plain": [
       "<Figure size 432x288 with 1 Axes>"
      ]
     },
     "metadata": {},
     "output_type": "display_data"
    }
   ],
   "source": [
    "import matplotlib.pyplot as plt\n",
    "plt.title('2 hours of morning RTL')\n",
    "plt.ylabel('minutes')\n",
    "plt.xlabel('minutes')\n",
    "plt.imshow(plotresults)\n",
    "plt.savefig('results_phash_real_data', dpi=1000)\n",
    "\n"
   ]
  }
 ],
 "metadata": {
  "kernelspec": {
   "display_name": "Python 3",
   "language": "python",
   "name": "python3"
  },
  "language_info": {
   "codemirror_mode": {
    "name": "ipython",
    "version": 3
   },
   "file_extension": ".py",
   "mimetype": "text/x-python",
   "name": "python",
   "nbconvert_exporter": "python",
   "pygments_lexer": "ipython3",
   "version": "3.6.5"
  }
 },
 "nbformat": 4,
 "nbformat_minor": 2
}
