{
 "cells": [
  {
   "cell_type": "code",
   "execution_count": 51,
   "metadata": {},
   "outputs": [],
   "source": [
    "from PIL import Image\n",
    "import glob\n",
    "import numpy as np\n",
    "import time\n",
    "import h5py\n",
    "wd_frames = '/home/emsala/Documenten/Studie/These/phashing/dataset/films/film_1/frames/*'\n",
    "frame_paths = sorted(glob.glob(wd_frames))"
   ]
  },
  {
   "cell_type": "code",
   "execution_count": 45,
   "metadata": {},
   "outputs": [
    {
     "name": "stdout",
     "output_type": "stream",
     "text": [
      "no conversion effect\n"
     ]
    }
   ],
   "source": [
    "def check_conversion_effect(frame_path):\n",
    "    pil_image_original = Image.open(frame_path).convert(\"RGB\") \n",
    "    pixels_original = np.asarray(pil_image_original)\n",
    "    image_changed = Image.fromarray(pixels_original)\n",
    "    pixels_changed = np.asarray(image_changed)\n",
    "    diff = pixels_changed == pixels_original\n",
    "    same = np.size(diff) == sum(sum(sum(diff)))\n",
    "    if same:\n",
    "        print(\"no conversion effect\")\n",
    "\n",
    "check_conversion_effect(frame_paths[500])"
   ]
  },
  {
   "cell_type": "code",
   "execution_count": null,
   "metadata": {},
   "outputs": [],
   "source": []
  },
  {
   "cell_type": "code",
   "execution_count": 81,
   "metadata": {},
   "outputs": [],
   "source": [
    "def pil_to_np(im):\n",
    "    pixels = np.asarray(im)\n",
    "    return pixels\n",
    "\n",
    "def np_to_pil(pixels):\n",
    "    im = Image.fromarray(pixels)\n",
    "    return im"
   ]
  },
  {
   "cell_type": "code",
   "execution_count": 47,
   "metadata": {},
   "outputs": [],
   "source": [
    "def numpy_concatenation(frame_paths):\n",
    "    im = Image.open(frame_paths[0]).convert(\"RGB\") \n",
    "    pixels = pil_to_np(im)\n",
    "    images_shape = (pixels.shape[0], pixels.shape[1], pixels.shape[2], 0)\n",
    "    images = np.zeros(images_shape)\n",
    "\n",
    "    for frame_path in frame_paths:\n",
    "        im = Image.open(frame_path).convert(\"RGB\") \n",
    "        pixels = pil_to_np(im)\n",
    "        pixels = np.expand_dims(pixels, axis =3)\n",
    "        images = np.concatenate((images, pixels), axis = 3)\n",
    "\n",
    "def efficient_concatenation(frame_paths):\n",
    "    im = Image.open(frame_paths[0]).convert(\"RGB\") \n",
    "    pixels = pil_to_np(im)\n",
    "    n_frames = len(frame_paths)\n",
    "    images_shape = (pixels.shape[0], pixels.shape[1], pixels.shape[2], n_frames)\n",
    "    images = np.zeros(images_shape)\n",
    "\n",
    "    for i in range(0, n_frames):\n",
    "        frame_path = frame_paths[i]\n",
    "        im = Image.open(frame_path).convert(\"RGB\") \n",
    "        pixels = pil_to_np(im)\n",
    "        \n",
    "        images[:,:,:,i] = pixels\n",
    "    return images"
   ]
  },
  {
   "cell_type": "code",
   "execution_count": 44,
   "metadata": {},
   "outputs": [
    {
     "name": "stdout",
     "output_type": "stream",
     "text": [
      "time with np.concat:  11.749693632125854\n",
      "time without np.concat:  3.1731889247894287\n"
     ]
    }
   ],
   "source": [
    "#test concatenations\n",
    "start_time = time.time()\n",
    "images = numpy_concatenation(frame_paths[0:30])\n",
    "end_time = time.time()\n",
    "print('time with np.concat: ', end_time-start_time)\n",
    "\n",
    "start_time = time.time()\n",
    "images = efficient_concatenation(frame_paths[0:30])\n",
    "end_time = time.time()\n",
    "print('time without np.concat: ', end_time-start_time)\n"
   ]
  },
  {
   "cell_type": "code",
   "execution_count": 107,
   "metadata": {},
   "outputs": [],
   "source": [
    "#npy\n",
    "# 900 mb for 20 arrays of size (1080, 1920, 3)\n",
    "# = 50 mb per array\n",
    "# vs 500 kb per jpg image\n",
    "# npy is 1000 times as big as jpg!\n",
    "\n",
    "# 1000 mb for 30 arrays, dus niet linear increase of memory per array\n",
    "\n",
    "# kan alleen niet gebruiken want np.concatenate is te langzaam => check h5py\n",
    "\n",
    "def save_to_npy(frame_paths, batchsize = 50):\n",
    "    n_images = len(frame_paths)\n",
    "    \n",
    "    for i in range(batchsize, n_images, batchsize):\n",
    "        start = i - batchsize\n",
    "        end = i\n",
    "        images = efficient_concatenation(frame_paths[start:end])\n",
    "\n",
    "        n_images = images.shape[3]\n",
    "        frame_nr = frame_paths[end].split('/')[-1].split('frame')[1].split('.')[0]\n",
    "        np.save('images_{}'.format(frame_nr), images)"
   ]
  },
  {
   "cell_type": "code",
   "execution_count": 109,
   "metadata": {},
   "outputs": [],
   "source": [
    "#npy\n",
    "# 40 mb for 50 arrays of size (1080, 1920, 3) en 350 MB voor 220 arrays\n",
    "# = 1 tot 2 mb per array\n",
    "# vs 500 kb per jpg image\n",
    "\n",
    "# langzamer opslaan dan numpy maar sneller laden \n",
    "\n",
    "def save_to_h5py(frame_paths, batchsize = 20):\n",
    "    counter = 0\n",
    "    im = Image.open(frame_paths[0]).convert(\"RGB\") \n",
    "    pixels = pil_to_np(im)\n",
    "\n",
    "    n_images = len(frame_paths)\n",
    "    \n",
    "    hdf5_store = h5py.File(\"./cache.hdf5\", \"a\")\n",
    "    \n",
    "    for i in range(batchsize, n_images, batchsize):\n",
    "        counter += 1\n",
    "\n",
    "        start = i - batchsize\n",
    "        end = i\n",
    "               \n",
    "        frame_paths_batch = frame_paths[start:end]\n",
    "        images_shape = (pixels.shape[0], pixels.shape[1], pixels.shape[2], batchsize)\n",
    "        #print(images_shape)\n",
    "        images = np.zeros(images_shape)\n",
    "\n",
    "        for j in range(0, batchsize):\n",
    "            frame_path = frame_paths_batch[j]\n",
    "            im = Image.open(frame_path).convert(\"RGB\") \n",
    "            pixels = pil_to_np(im)\n",
    "\n",
    "            images[:,:,:,j] = pixels\n",
    "        \n",
    "        hdf5_store.create_dataset(\"images_{}\".format(end), data = images, compression=\"gzip\")\n",
    "#         if counter == 3:\n",
    "#             break"
   ]
  },
  {
   "cell_type": "code",
   "execution_count": 21,
   "metadata": {},
   "outputs": [],
   "source": []
  },
  {
   "cell_type": "code",
   "execution_count": 29,
   "metadata": {},
   "outputs": [
    {
     "data": {
      "text/plain": [
       "True"
      ]
     },
     "execution_count": 29,
     "metadata": {},
     "output_type": "execute_result"
    }
   ],
   "source": []
  }
 ],
 "metadata": {
  "kernelspec": {
   "display_name": "Python 3",
   "language": "python",
   "name": "python3"
  },
  "language_info": {
   "codemirror_mode": {
    "name": "ipython",
    "version": 3
   },
   "file_extension": ".py",
   "mimetype": "text/x-python",
   "name": "python",
   "nbconvert_exporter": "python",
   "pygments_lexer": "ipython3",
   "version": "3.6.7"
  }
 },
 "nbformat": 4,
 "nbformat_minor": 2
}
