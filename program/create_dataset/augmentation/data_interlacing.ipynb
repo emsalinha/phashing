{
 "cells": [
  {
   "cell_type": "code",
   "execution_count": 4,
   "metadata": {},
   "outputs": [],
   "source": [
    "import os\n",
    "from PIL import Image, PngImagePlugin\n",
    "import glob\n",
    "import numpy as np\n",
    "np.set_printoptions(threshold=25)\n",
    "import scipy.fftpack\n",
    "import pandas as pd\n",
    "import h5py\n",
    "from collections import deque"
   ]
  },
  {
   "cell_type": "code",
   "execution_count": 2,
   "metadata": {},
   "outputs": [],
   "source": [
    "def interlace(input_paths, save = False):\n",
    "    frames = [Image.open(fn).convert(\"RGB\") for fn in input_paths]\n",
    "    assert len(frames) > 0, \"Must have at least one input frame.\"\n",
    "    output_name = input_paths[0].split('.')[0] + '_il' + input_paths[0].split('.')[1]\n",
    "    sizes = set()\n",
    "    for fr in frames:\n",
    "        sizes.add(fr.size)\n",
    "    assert len(sizes) == 1, \"All input images must have the same size.\"\n",
    "    w, h = sizes.pop()\n",
    "    N = len(frames)\n",
    "    output_image = Image.new(\"RGB\", (w, h*N))\n",
    "    for j in range(h):\n",
    "        for i in range(w):\n",
    "              for fn, f in enumerate(frames):\n",
    "                    output_image.putpixel((i, j*N+fn), f.getpixel((i, j)))\n",
    "    # When loading this image, the graphics library expects to find a text\n",
    "    # chunk that specifies how many frames this animation represents.  If\n",
    "    # you post-process the output of this script with some kind of\n",
    "    # optimizer tool (eg pngcrush or zopflipng) make sure that your\n",
    "    # optimizer preserves this text chunk.\n",
    "    meta = PngImagePlugin.PngInfo()\n",
    "    meta.add_text(\"Frames\", str(N))\n",
    "    if save:\n",
    "        output_image.save(output_name, pnginfo=meta)\n",
    "    return output_image\n"
   ]
  },
  {
   "cell_type": "code",
   "execution_count": 4,
   "metadata": {},
   "outputs": [],
   "source": [
    "def create_interlace_input(frames, window_size = 3):\n",
    "    frame_window = deque(frames[0:window_size])\n",
    "    interlace_inputs = []\n",
    "    for frame in frames[window_size:]:\n",
    "        frame_window.append(frame)\n",
    "        frame_window.popleft()\n",
    "        interlace_input = list(frame_window)\n",
    "        interlace_inputs.append(interlace_input)\n",
    "    return interlace_inputs"
   ]
  },
  {
   "cell_type": "code",
   "execution_count": 15,
   "metadata": {},
   "outputs": [],
   "source": [
    "def get_hash(im, hash_size, high_freq_factor):\n",
    "    img_size = hash_size * high_freq_factor\n",
    "    image = im.convert(\"L\").resize((img_size, img_size), Image.ANTIALIAS)\n",
    "    pixels = np.asarray(image)\n",
    "    dct = scipy.fftpack.dct(scipy.fftpack.dct(pixels, axis=0), axis=1)\n",
    "    dctlowfreq = dct[:hash_size, :hash_size]\n",
    "    med = np.median(dctlowfreq)\n",
    "    diff = dctlowfreq > med\n",
    "    phash = [1 if x == True else 0 for x in diff.flatten()]\n",
    "    return phash"
   ]
  },
  {
   "cell_type": "code",
   "execution_count": 6,
   "metadata": {},
   "outputs": [],
   "source": [
    "def write_hashes_elementwise_to_hdf5(phashes, name = ''):\n",
    "    len_hash = len(phashes[0])\n",
    "    n_frames = len(phashes)\n",
    "    \n",
    "    hdf5_store = h5py.File(\"./phashes{}.hdf5\".format('_'+name), \"a\")\n",
    "    phashes_hdf5 = hdf5_store.create_dataset(\"phashes\", (n_frames, len_hash), compression=\"gzip\")\n",
    "\n",
    "    for i in range(0, len(phashes)):\n",
    "        phashes_hdf5[i] = phashes[i]    "
   ]
  },
  {
   "cell_type": "code",
   "execution_count": 12,
   "metadata": {},
   "outputs": [],
   "source": [
    "def get_interlashed_hashes(interlace_inputs, hash_size, high_freq_factor):\n",
    "    phashes = []\n",
    "    for interlace_input in interlace_inputs:\n",
    "        output_image = interlace(interlace_input)\n",
    "        phash = get_hash(output_image, hash_size, high_freq_factor)\n",
    "        phashes.append(phash)\n",
    "    return phashes\n"
   ]
  },
  {
   "cell_type": "code",
   "execution_count": 17,
   "metadata": {},
   "outputs": [],
   "source": [
    "# input\n",
    "\n",
    "wd_frame_paths = '/home/emsala/Documenten/Studie/These/phashing/dataset/films/film_1/frames/*'\n",
    "hash_size = 15\n",
    "high_freq_factor = 4\n"
   ]
  },
  {
   "cell_type": "code",
   "execution_count": null,
   "metadata": {},
   "outputs": [],
   "source": [
    "#main\n",
    "\n",
    "frame_paths = sorted(glob.glob(wd_frame_paths))\n",
    "\n",
    "interlace_inputs = create_interlace_input(frame_paths)\n",
    "phashes = get_interlashed_hashes(interlace_inputs, hash_size, high_freq_factor)\n",
    "\n",
    "write_elementwise_to_hdf5(frame_paths, phashes, name = 'il')"
   ]
  }
 ],
 "metadata": {
  "kernelspec": {
   "display_name": "Python 3",
   "language": "python",
   "name": "python3"
  },
  "language_info": {
   "codemirror_mode": {
    "name": "ipython",
    "version": 3
   },
   "file_extension": ".py",
   "mimetype": "text/x-python",
   "name": "python",
   "nbconvert_exporter": "python",
   "pygments_lexer": "ipython3",
   "version": "3.6.7"
  }
 },
 "nbformat": 4,
 "nbformat_minor": 2
}
