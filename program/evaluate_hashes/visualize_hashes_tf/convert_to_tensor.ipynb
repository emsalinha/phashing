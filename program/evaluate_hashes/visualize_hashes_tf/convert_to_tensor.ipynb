{
 "cells": [
  {
   "cell_type": "code",
   "execution_count": 12,
   "metadata": {},
   "outputs": [],
   "source": [
    "from tensorboardX import SummaryWriter\n",
    "writer = SummaryWriter()"
   ]
  },
  {
   "cell_type": "code",
   "execution_count": null,
   "metadata": {},
   "outputs": [],
   "source": [
    "with open('SeeFoo-hashes.csv') as csvfile:\n",
    "    hash_data_film = pd.read_csv(csvfile)\n",
    "with open('SeeFoo-trailer-hashes.csv') as csvfile:\n",
    "    hash_data_trailer = pd.read_csv(csvfile)"
   ]
  },
  {
   "cell_type": "code",
   "execution_count": 13,
   "metadata": {},
   "outputs": [],
   "source": [
    "hashes = list(hash_data_film.hash) + list(hash_data_trailer.hash)\n",
    "hashes = np.array([int(e) for e in hashes if e == '0' or e == '1'])\n",
    "hashes = torch.from_numpy(hashes)"
   ]
  },
  {
   "cell_type": "code",
   "execution_count": 10,
   "metadata": {},
   "outputs": [],
   "source": [
    "path_trailer_frames = '/home/emsala/Documenten/Studie/These/dataset-maken/dataset/trailers/trailer_1/frames/SeeFoo-frames/'\n",
    "path_film_frames = '/home/emsala/Documenten/Studie/These/dataset-maken/dataset/films/film_1/frames/'\n",
    "path_frames = [path_film_frames + frame for frame in list(hash_data_film.frame)] + [path_trailer_frames + frame for frame in list(hash_data_trailer.frame)]"
   ]
  },
  {
   "cell_type": "code",
   "execution_count": 11,
   "metadata": {},
   "outputs": [],
   "source": [
    "hash_size = 11\n",
    "high_freq_factor=6\n",
    "images = []\n",
    "for path_frame in path_frames:    \n",
    "    im = Image.open(path_frame)\n",
    "    img_size = hash_size * high_freq_factor\n",
    "    image = im.convert(\"L\").resize((img_size, img_size), Image.ANTIALIAS)\n",
    "    images.append(images)"
   ]
  },
  {
   "cell_type": "code",
   "execution_count": null,
   "metadata": {},
   "outputs": [],
   "source": [
    "images = torch.from_numpy(np.array(images))"
   ]
  },
  {
   "cell_type": "code",
   "execution_count": null,
   "metadata": {},
   "outputs": [],
   "source": [
    "writer.add_embedding(hashes, label_img=images) #metadata=labels"
   ]
  },
  {
   "cell_type": "code",
   "execution_count": null,
   "metadata": {},
   "outputs": [],
   "source": [
    "\n",
    "\n",
    "\n"
   ]
  }
 ],
 "metadata": {
  "kernelspec": {
   "display_name": "Python 3",
   "language": "python",
   "name": "python3"
  },
  "language_info": {
   "codemirror_mode": {
    "name": "ipython",
    "version": 3
   },
   "file_extension": ".py",
   "mimetype": "text/x-python",
   "name": "python",
   "nbconvert_exporter": "python",
   "pygments_lexer": "ipython3",
   "version": "3.6.7"
  },
  "pycharm": {
   "stem_cell": {
    "cell_type": "raw",
    "source": [
     "import torch\n",
     "import glob\n",
     "import pandas as pd\n",
     "import csv\n",
     "import os\n",
     "import numpy as np\n",
     "from PIL import Image"
    ],
    "metadata": {
     "collapsed": false
    }
   }
  }
 },
 "nbformat": 4,
 "nbformat_minor": 2
}