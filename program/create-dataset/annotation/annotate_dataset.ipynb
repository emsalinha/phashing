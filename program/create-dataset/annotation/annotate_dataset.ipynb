{
 "cells": [
  {
   "cell_type": "code",
   "execution_count": 3,
   "metadata": {},
   "outputs": [],
   "source": [
    "import os\n",
    "import glob\n",
    "import pandas as pd\n",
    "import numpy as np\n",
    "import random as rd\n",
    "import matplotlib.pyplot as plt\n",
    "from imgaug import augmenters as iaa\n",
    "import imgaug as ia\n",
    "from scipy.spatial.distance import cosine, hamming, jaccard, cdist\n",
    "from sklearn.metrics import f1_score as calc_f1\n",
    "from sklearn.metrics import precision_score, recall_score\n",
    "# f1_score = calc_f1(y_true, y_pred, labels=None, pos_label=1, average=’binary’, sample_weight=None)\n",
    "pd.set_option('display.max_rows', 2000)"
   ]
  },
  {
   "cell_type": "code",
   "execution_count": 8,
   "metadata": {},
   "outputs": [],
   "source": [
    "hash_size = 15\n",
    "high_freq_factor = 4\n",
    "\n",
    "n_film = 3\n",
    "wd_frames = os.getcwd() + '/films/film_{}/frames/'.format(n_film)\n",
    "frame_paths = sorted(glob.glob(wd_frames + '*'))\n",
    "\n",
    "wd_film = os.getcwd() + '/films/film_{}/film/'.format(n_film)\n",
    "film_name = glob.glob(path_film + '*')[0].split('/')[-1].replace(' ', '-')[0:7]\n",
    "\n",
    "wd_hashes = os.getcwd() + '/films/film_{}/hashes/'.format(n_film)"
   ]
  },
  {
   "cell_type": "code",
   "execution_count": 20,
   "metadata": {},
   "outputs": [],
   "source": [
    "with open(wd_hashes + '{}-hashes-{}-{}.csv'.format(film_name, hash_size, high_freq_factor)) as csvfile:\n",
    "    dataset = pd.read_csv(csvfile, index_col = False)"
   ]
  },
  {
   "cell_type": "code",
   "execution_count": 25,
   "metadata": {},
   "outputs": [],
   "source": [
    "dataset['annotation'] = np.random.choice(2, len(dataset.hash))"
   ]
  },
  {
   "cell_type": "code",
   "execution_count": 24,
   "metadata": {},
   "outputs": [
    {
     "data": {
      "text/plain": [
       "array([1, 0, 0, 1, 1, 1, 1, 0, 0, 0])"
      ]
     },
     "execution_count": 24,
     "metadata": {},
     "output_type": "execute_result"
    }
   ],
   "source": []
  },
  {
   "cell_type": "code",
   "execution_count": 18,
   "metadata": {},
   "outputs": [],
   "source": [
    "dataset = dataset.drop(columns = 'Unnamed: 0')\n",
    "dataset = dataset.drop(columns = 'Unnamed: 0.1')\n",
    "dataset = dataset.drop(columns = 'Unnamed: 0.1.1')"
   ]
  },
  {
   "cell_type": "code",
   "execution_count": 5,
   "metadata": {},
   "outputs": [],
   "source": [
    "def zero_padding_numbers(frame_name, len_number=4, frame_nr = False):\n",
    "    if frame_nr == False:\n",
    "        frame_nr = frame_name.split('frame')[1].split('.')[0]\n",
    "        start = frame_name.split(frame_nr)[0]\n",
    "        end = frame_name.split(frame_nr)[1]\n",
    "    else:\n",
    "        start = ''\n",
    "        frame_nr = str(frame_name)\n",
    "        end = ''\n",
    "    len_padding = len_number-len(frame_nr)\n",
    "    new_nr = ('0'*len_padding) + frame_nr\n",
    "    new_name = start + new_nr + end\n",
    "    return new_name"
   ]
  },
  {
   "cell_type": "code",
   "execution_count": 6,
   "metadata": {},
   "outputs": [],
   "source": [
    "#shot annotation\n",
    "shot1 = list(range(840, 1508))\n",
    "shot2 = list(range(1528, 1911))\n",
    "shot3 = list(range(2611, 2674))\n",
    "shot4 = list(range(3280, 3461))\n",
    "shot5 = list(range(4453, 4612))\n",
    "\n",
    "shots = shot1 + shot2 + shot3 + shot4 + shot5\n",
    "shot_numbers = [zero_padding_numbers(shot, frame_nr = True) for shot in shots]\n",
    "correct_frames = ['frame{}.jpg'.format(shot_number) for shot_number in shot_numbers]\n",
    "\n",
    "annotation = []\n",
    "for frame in list(dataset.frame):\n",
    "    if frame in correct_frames:\n",
    "        annotation.append(1)\n",
    "    else:\n",
    "        annotation.append(0)\n",
    "dataset['annotation'] = annotation"
   ]
  },
  {
   "cell_type": "code",
   "execution_count": 8,
   "metadata": {},
   "outputs": [],
   "source": [
    "dataset = dataset.sort_values(by = 'frame')\n",
    "# change hashtype to numpy array\n",
    "dataset['hash'] = dataset['hash'].apply(lambda x: np.array([int(e) for e in x if e =='0' or e =='1']))"
   ]
  },
  {
   "cell_type": "code",
   "execution_count": null,
   "metadata": {},
   "outputs": [],
   "source": [
    "# add zero padding to frame name numbering\n",
    "dataset['frame'] = dataset.frame.apply(lambda x: zero_padding_numbers(x))\n",
    "dataset = dataset.sort_values(by = 'frame')\n",
    "# change hashtype to numpy array\n",
    "dataset['hash'] = dataset['hash'].apply(lambda x: np.array([int(e) for e in x if e =='0' or e =='1']))"
   ]
  },
  {
   "cell_type": "code",
   "execution_count": 10,
   "metadata": {},
   "outputs": [],
   "source": [
    "os.chdir(wd + '/films/film_1/hashes/')\n"
   ]
  },
  {
   "cell_type": "code",
   "execution_count": 20,
   "metadata": {},
   "outputs": [],
   "source": [
    "dataset.to_csv('SeeFoo-hashes-15-4.csv')"
   ]
  },
  {
   "cell_type": "code",
   "execution_count": null,
   "metadata": {},
   "outputs": [],
   "source": [
    "def get_trailer_frames(frames, len_number = 4):\n",
    "    def zero_padding_numbers(frame_name, len_number=4, frame_nr = False):\n",
    "        if frame_nr == False:\n",
    "            frame_nr = frame_name.split('frame')[1].split('.')[0]\n",
    "            start = frame_name.split(frame_nr)[0]\n",
    "            end = frame_name.split(frame_nr)[1]\n",
    "        else:\n",
    "            start = ''\n",
    "            frame_nr = str(frame_name)\n",
    "            end = ''\n",
    "        len_padding = len_number-len(frame_nr)\n",
    "        new_nr = ('0'*len_padding) + frame_nr\n",
    "        new_name = start + new_nr + end\n",
    "        return new_name\n",
    "\n",
    "    shot1 = list(range(840, 1508))\n",
    "    shot2 = list(range(1528, 1911))\n",
    "    shot3 = list(range(2611, 2674))\n",
    "    shot4 = list(range(3280, 3461))\n",
    "    shot5 = list(range(4453, 4612))\n",
    "\n",
    "    shots = shot1 + shot2 + shot3 + shot4 + shot5\n",
    "    shot_numbers = [zero_padding_numbers(shot, frame_nr = True) for shot in shots]\n",
    "    correct_frames = ['frame{}.jpg'.format(shot_number) for shot_number in shot_numbers]\n",
    "    trailer_frames = [frame for frame in frames if frame.split('/')[-1] in correct_frames]    \n",
    "    return trailer_frames"
   ]
  }
 ],
 "metadata": {
  "kernelspec": {
   "display_name": "Python 3",
   "language": "python",
   "name": "python3"
  },
  "language_info": {
   "codemirror_mode": {
    "name": "ipython",
    "version": 3
   },
   "file_extension": ".py",
   "mimetype": "text/x-python",
   "name": "python",
   "nbconvert_exporter": "python",
   "pygments_lexer": "ipython3",
   "version": "3.6.7"
  }
 },
 "nbformat": 4,
 "nbformat_minor": 2
}
